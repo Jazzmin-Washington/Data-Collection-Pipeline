{
 "cells": [
  {
   "cell_type": "code",
   "execution_count": 12,
   "metadata": {},
   "outputs": [],
   "source": [
    "import selenium\n",
    "from selenium.webdriver import Chrome\n",
    "import bs4\n",
    "\n",
    "driver = Chrome('./chromedriver')"
   ]
  },
  {
   "cell_type": "code",
   "execution_count": 13,
   "metadata": {},
   "outputs": [],
   "source": [
    "# Scraper Class to Navigate Website\n",
    "driver.get"
   ]
  }
 ],
 "metadata": {
  "interpreter": {
   "hash": "c7ebcdf3d899f39c960f36edd2e629c3a73e55bd916ee316b13c93559f3f4a96"
  },
  "kernelspec": {
   "display_name": "Python 3.9.12 ('Data_Collection_Pipeline')",
   "language": "python",
   "name": "python3"
  },
  "language_info": {
   "codemirror_mode": {
    "name": "ipython",
    "version": 3
   },
   "file_extension": ".py",
   "mimetype": "text/x-python",
   "name": "python",
   "nbconvert_exporter": "python",
   "pygments_lexer": "ipython3",
   "version": "3.9.12"
  },
  "orig_nbformat": 4
 },
 "nbformat": 4,
 "nbformat_minor": 2
}
